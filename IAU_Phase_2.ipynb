{
 "cells": [
  {
   "cell_type": "markdown",
   "metadata": {},
   "source": [
    "### Imports"
   ]
  },
  {
   "cell_type": "code",
   "execution_count": 19,
   "metadata": {},
   "outputs": [],
   "source": [
    "import pandas as pd\n",
    "import seaborn as sns\n",
    "import matplotlib.pyplot as plt\n",
    "from scipy.stats import kstest, norm, shapiro\n",
    "from scipy.stats import mannwhitneyu, levene\n",
    "from sklearn.preprocessing import StandardScaler, MinMaxScaler"
   ]
  },
  {
   "cell_type": "markdown",
   "metadata": {},
   "source": [
    "# Integracia a cistenie dát"
   ]
  },
  {
   "cell_type": "markdown",
   "metadata": {},
   "source": [
    "### Technika 1 - odstranenie chybnych hodnot a outliers"
   ]
  },
  {
   "cell_type": "code",
   "execution_count": 2,
   "metadata": {},
   "outputs": [
    {
     "name": "stdout",
     "output_type": "stream",
     "text": [
      "Pocet zaznamov v datach pred cistenym: 12155\n",
      "Pocet zaznamov po cisteny dat: 11273\n",
      "Počet najdených vonkajších hodnôt: 668\n"
     ]
    }
   ],
   "source": [
    "measurements = pd.read_csv(\"data/measurements.csv\", delim_whitespace=True)\n",
    "print(f\"Pocet zaznamov v datach pred cistenym: {len(measurements)}\")\n",
    "def remove_outliers(col, data):\n",
    "    data.reset_index(drop=True, inplace = True)\n",
    "    data_mean = data[col].mean()\n",
    "    data_std = data[col].std()\n",
    "    cut_off = data_std * 3\n",
    "    lower, upper = data_mean - cut_off, data_mean + cut_off\n",
    "    \n",
    "    i = 0\n",
    "    while (len(data)-1) != i:\n",
    "        if data[col].iloc[i] < lower or data[col].iloc[i] > upper:\n",
    "            data.drop(i, axis = 0)\n",
    "        i+= 1\n",
    "    return data\n",
    "\n",
    "def remove_data(origin):\n",
    "    origin = origin.drop(['latitude', 'longitude'], axis=1)\n",
    "    origin = origin.dropna()\n",
    "    origin.drop(origin[(origin['warning'] != 1) | (origin['warning'] != 0)].index, axis=0)\n",
    "    origin = origin.drop(origin[origin.duplicated()].index)\n",
    "    \n",
    "    for col in origin.columns:\n",
    "        if col != 'warning':\n",
    "            origin = remove_outliers(col, origin)\n",
    "    return origin\n",
    "    \n",
    "data_removed = remove_data(measurements)\n",
    "print(f\"Pocet zaznamov po cisteny dat: {len(data_removed)}\")\n",
    "\n",
    "\n",
    "def find_outliers(col):\n",
    "    data_mean = data_removed[col].mean()\n",
    "    data_std = data_removed[col].std()\n",
    "    cut_off = data_std * 3\n",
    "    lower, upper = data_mean - cut_off, data_mean + cut_off\n",
    "    outliers = [x for x in data_removed[col] if x < lower or x > upper]\n",
    "\n",
    "    return len(outliers)"
   ]
  },
  {
   "cell_type": "markdown",
   "metadata": {},
   "source": [
    "Z dat sme odstranily nepotrebne stlce, prazdne hodnoty, chybne hodnoty attributu \"warning\", duplicovane zaznamy a outliers"
   ]
  },
  {
   "cell_type": "markdown",
   "metadata": {},
   "source": [
    "### Technika 2 - nahradenie chybnych hodnot a outliers"
   ]
  },
  {
   "cell_type": "code",
   "execution_count": 3,
   "metadata": {},
   "outputs": [
    {
     "name": "stdout",
     "output_type": "stream",
     "text": [
      "291\n"
     ]
    }
   ],
   "source": [
    "measurements = pd.read_csv(\"data/measurements.csv\", delim_whitespace=True)\n",
    "\n",
    "def replace_warning(measurements):\n",
    "    for i in range(len(measurements)):\n",
    "        if measurements['warning'].iloc[i] >= 0.5:\n",
    "            measurements[\"warning\"].iloc[i] = 1\n",
    "        else:\n",
    "            measurements[\"warning\"].iloc[i] = 0\n",
    "    return measurements\n",
    "    \n",
    "\n",
    "def replace_outliers(col, measurements):\n",
    "    data_mean = measurements[col].mean()\n",
    "    data_std = measurements[col].std()\n",
    "    cut_off = data_std * 3\n",
    "    lower, upper = data_mean - cut_off, data_mean + cut_off\n",
    "    \n",
    "    for i in range(len(col)):\n",
    "        if measurements[col].iloc[i] < lower:\n",
    "            measurements[col].iloc[i] = lower\n",
    "        elif measurements[col].iloc[i] > upper:\n",
    "            measurements[col].iloc[i] = upper\n",
    "            \n",
    "    return measurements\n",
    "    \n",
    "    \n",
    "def replace_data(measurements):\n",
    "    measurements = measurements.drop(['latitude', 'longitude'], axis=1)\n",
    "    measurements = replace_warning(measurements)\n",
    "    measurements.fillna(measurements.mean(), inplace = True)\n",
    "    measurements = measurements.drop(measurements[measurements.duplicated()].index)\n",
    "    \n",
    "        \n",
    "    for col in measurements.columns:\n",
    "        if col != 'warning':\n",
    "            measurements = replace_outliers(col, measurements)\n",
    "    \n",
    "    return measurements\n",
    "    \n",
    "data_replaced = replace_data(measurements)"
   ]
  },
  {
   "cell_type": "markdown",
   "metadata": {},
   "source": [
    "V datach sme zmenili hodnoty warning ktore boli vatsia ako 0.5 na 1. Ostatne sme nastavali na 0. Prazdne hodnoty sa nastavali na ich priemerne a duplicitne merania sme stale odstranili pretoze tie nepotrebuje."
   ]
  },
  {
   "cell_type": "markdown",
   "metadata": {},
   "source": [
    "Kedze po odstraneni hodnot nam stale zostalo velke mnozstvo merani rozhodli sme sa pokracovat s technikou 1. Pretoze hodnota warning je najdolezitejsia a nevieme v pripade ked bola chybna ci jej reprezentacia moze stale byt opravena pomocou zaokruhlenia."
   ]
  },
  {
   "cell_type": "markdown",
   "metadata": {},
   "source": [
    "# Realizácia predspracovania dát "
   ]
  },
  {
   "cell_type": "markdown",
   "metadata": {},
   "source": [
    "## Rozdelenie dat"
   ]
  },
  {
   "cell_type": "markdown",
   "metadata": {},
   "source": [
    "Data rozdelime na 2 casty. 1. cast su training data ktore pouzijeme na trenovanie nasho modelu (tvori 75% dat). \n",
    "2. cast su data na ktorej budeme model testovat (zvysnich 25%)"
   ]
  },
  {
   "cell_type": "markdown",
   "metadata": {},
   "source": [
    "Po precitany clanku https://www.health.nsw.gov.au/environment/air/Pages/common-air-pollutants.aspx sme sa rozhodli zvacsit data aj o attribut PM10. Mozeme vidiet ze mensia korelacia s hodnotou warning tam existuje."
   ]
  },
  {
   "cell_type": "code",
   "execution_count": 18,
   "metadata": {},
   "outputs": [
    {
     "data": {
      "text/plain": [
       "0.30844473941724543"
      ]
     },
     "execution_count": 18,
     "metadata": {},
     "output_type": "execute_result"
    }
   ],
   "source": [
    "measurements['warning'].corr(measurements['PM10'])"
   ]
  },
  {
   "cell_type": "code",
   "execution_count": 10,
   "metadata": {},
   "outputs": [],
   "source": [
    "training_data = data_removed.sample(frac=0.75, random_state=25)\n",
    "testing_data = data_removed.drop(training_data.index)\n",
    "\n",
    "training_data_target = training_data[\"warning\"]\n",
    "training_data_features = training_data[['CO', 'SO2', 'PM10']]\n",
    "\n",
    "testing_data_target = testing_data[\"warning\"]\n",
    "testing_data_features = testing_data[['CO', 'SO2', 'PM10']]"
   ]
  },
  {
   "cell_type": "markdown",
   "metadata": {},
   "source": [
    "Po rozdeleni nam vznikaju features a target. Pomocou features ('CO, SO2, O3') by sme mali vediet mali vediet predikovat hodnotu target ('warning') potom ako naucime model."
   ]
  },
  {
   "cell_type": "markdown",
   "metadata": {},
   "source": [
    "## Transformacia dat"
   ]
  },
  {
   "cell_type": "markdown",
   "metadata": {},
   "source": [
    "Transformacia dat sluzi na predspracovanie udajov pre strojove ucenie. Kedze nase data su iba numericke budeme pouzivat metody scaling."
   ]
  },
  {
   "cell_type": "markdown",
   "metadata": {},
   "source": [
    "StandarScaler"
   ]
  },
  {
   "cell_type": "code",
   "execution_count": 11,
   "metadata": {},
   "outputs": [],
   "source": [
    "scaler = StandardScaler()\n",
    "training_data_features_standard = scaler.fit_transform(training_data_features)"
   ]
  },
  {
   "cell_type": "markdown",
   "metadata": {},
   "source": [
    "MinMxScaler"
   ]
  },
  {
   "cell_type": "code",
   "execution_count": 12,
   "metadata": {},
   "outputs": [],
   "source": [
    "scaler = MinMaxScaler()\n",
    "scaler.fit(training_data_features)\n",
    "training_data_features_minmax = scaler.transform(training_data_features)"
   ]
  },
  {
   "cell_type": "markdown",
   "metadata": {},
   "source": [
    "### Vizualizacia"
   ]
  },
  {
   "cell_type": "code",
   "execution_count": 13,
   "metadata": {},
   "outputs": [
    {
     "data": {
      "text/plain": [
       "<AxesSubplot: ylabel='Count'>"
      ]
     },
     "execution_count": 13,
     "metadata": {},
     "output_type": "execute_result"
    },
    {
     "data": {
      "image/png": "[encoded data removed]",
      "text/plain": [
       "<Figure size 640x480 with 1 Axes>"
      ]
     },
     "metadata": {},
     "output_type": "display_data"
    }
   ],
   "source": [
    "sns.histplot(training_data_features_standard)"
   ]
  },
  {
   "cell_type": "code",
   "execution_count": 14,
   "metadata": {},
   "outputs": [
    {
     "data": {
      "text/plain": [
       "<AxesSubplot: ylabel='Count'>"
      ]
     },
     "execution_count": 14,
     "metadata": {},
     "output_type": "execute_result"
    },
    {
     "data": {
      "image/png": "[encoded data removed]",
      "text/plain": [
       "<Figure size 640x480 with 1 Axes>"
      ]
     },
     "metadata": {},
     "output_type": "display_data"
    }
   ],
   "source": [
    "sns.histplot(training_data_features_minmax)"
   ]
  },
  {
   "cell_type": "markdown",
   "metadata": {},
   "source": [
    "Z vizualizacie mozeme vidiet ze StandarScaling vytvori lepsiu transformaciu hodnot. Taktiez je nase data pachadzaju z normalovej distribucie v ktorej sa pouziva metoda StandarScaling takze dalej budeme pokracovat s touto metodou."
   ]
  },
  {
   "cell_type": "code",
   "execution_count": null,
   "metadata": {},
   "outputs": [],
   "source": []
  }
 ],
 "metadata": {
  "kernelspec": {
   "display_name": "Python 3 (ipykernel)",
   "language": "python",
   "name": "python3"
  },
  "language_info": {
   "codemirror_mode": {
    "name": "ipython",
    "version": 3
   },
   "file_extension": ".py",
   "mimetype": "text/x-python",
   "name": "python",
   "nbconvert_exporter": "python",
   "pygments_lexer": "ipython3",
   "version": "3.10.7"
  }
 },
 "nbformat": 4,
 "nbformat_minor": 1
}
