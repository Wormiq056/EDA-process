{
 "cells": [
  {
   "cell_type": "markdown",
   "id": "e020c880",
   "metadata": {},
   "source": [
    "### Imports"
   ]
  },
  {
   "cell_type": "code",
   "execution_count": 1,
   "id": "c4be68a4",
   "metadata": {},
   "outputs": [],
   "source": [
    "import pandas as pd\n",
    "from sklearn.preprocessing import PowerTransformer\n",
    "from sklearn.feature_selection import SequentialFeatureSelector\n",
    "from sklearn.neighbors import KNeighborsClassifier\n",
    "from sklearn.impute import SimpleImputer\n",
    "from sklearn.pipeline import make_pipeline\n",
    "from sklearn.tree import DecisionTreeClassifier\n",
    "from sklearn.metrics import accuracy_score\n",
    "from sklearn.metrics import precision_score\n",
    "from sklearn.metrics import recall_score\n",
    "from sklearn.model_selection import GridSearchCV\n",
    "from sklearn.model_selection import cross_val_score\n",
    "from sklearn.tree import plot_tree"
   ]
  },
  {
   "cell_type": "markdown",
   "id": "4e651fad",
   "metadata": {},
   "source": [
    "#### Reading data and removing unwated attributes"
   ]
  },
  {
   "cell_type": "code",
   "execution_count": 2,
   "id": "f04698fc",
   "metadata": {},
   "outputs": [],
   "source": [
    "measurements = pd.read_csv(\"data/measurements.csv\", delim_whitespace=True)\n",
    "measurements = measurements.drop(['latitude', 'longitude'], axis=1)\n",
    "measurements = measurements.dropna()"
   ]
  },
  {
   "cell_type": "markdown",
   "id": "e04cdbed",
   "metadata": {},
   "source": [
    "# OneR algorithm"
   ]
  },
  {
   "cell_type": "markdown",
   "id": "10637d1d",
   "metadata": {},
   "source": [
    "Creating our own implementation of OneR algorithm. The code first preprocesses the data by handling missing values and outliers. The preprocessed data is then split into training and testing data. The OneR algorithm is implemented as a class, which takes the training and testing data as input in its constructor. The predict method of the OneR class is used to find the best attribute for classification and to evaluate the accuracy, precision, and recall of the model. Classification is done by calculating the mean value of given attribute."
   ]
  },
  {
   "cell_type": "code",
   "execution_count": 3,
   "id": "2fe8239a",
   "metadata": {},
   "outputs": [
    {
     "name": "stdout",
     "output_type": "stream",
     "text": [
      "Best attribute: NOx\n",
      "Accuracy: 0.6492946251603124\n",
      "Precision: 0.7806122448979592\n",
      "Recall: 0.570223617104747\n"
     ]
    }
   ],
   "source": [
    "# handling outliers and nan values\n",
    "transformed_data = SimpleImputer(strategy='mean').fit_transform(measurements)\n",
    "# creating dataframe from transformed data\n",
    "one_r_dataframe = pd.DataFrame(transformed_data,columns = measurements.columns)\n",
    "# splitting into testing and training data\n",
    "training_one_r_data = one_r_dataframe.sample(frac=0.75, random_state=25)\n",
    "testing_one_r_data = one_r_dataframe.drop(training_one_r_data.index)\n",
    "\n",
    "class OneR:\n",
    "    def __init__(self, testing_data, training_data):\n",
    "        self.testing_data = testing_data\n",
    "        self.training_data = training_data\n",
    "        self.best_attribute = None\n",
    "        \n",
    "    def predict(self):\n",
    "        best_precision = 0\n",
    "        best_recall = 0\n",
    "        for attribute in self.training_data.columns:\n",
    "            # Skip the \"warning\" attribute\n",
    "            if attribute == \"warning\":\n",
    "                continue\n",
    "\n",
    "            # Calculate the precision and recall for this attribute\n",
    "            precision, recall = self.calculate_precision_and_recall(attribute)\n",
    "\n",
    "            # Update the best attribute if this attribute has a better precision and recall\n",
    "            if precision > best_precision and recall > best_recall:\n",
    "                self.best_attribute = attribute\n",
    "                best_precision = precision\n",
    "                best_recall = recall\n",
    "\n",
    "        # Test the best attribute on the testing data\n",
    "        self.accuracy, self.precision, self.recall = self.test(self.best_attribute)\n",
    "        # Print found values\n",
    "        self.output()\n",
    "    \n",
    "    def output(self):\n",
    "        print(\"Best attribute:\", self.best_attribute)\n",
    "        print(\"Accuracy:\", self.accuracy)\n",
    "        print(\"Precision:\", self.precision)\n",
    "        print(\"Recall:\", self.recall)\n",
    "    \n",
    "    def calculate_precision_and_recall(self, attribute):\n",
    "        # Calculate the number of true positives (tp), false positives (fp),\n",
    "        # true negatives (tn), and false negatives (fn)\n",
    "        mean_value = self.training_data[attribute].mean()\n",
    "        tp = 0\n",
    "        fp = 0\n",
    "        tn = 0\n",
    "        fn = 0\n",
    "        for index, row in self.training_data.iterrows():\n",
    "            if row[\"warning\"] >= 1:\n",
    "                if row[attribute] >= mean_value:\n",
    "                    tp += 1\n",
    "                else:\n",
    "                    fn += 1\n",
    "            else:\n",
    "                if row[attribute] >= mean_value:\n",
    "                    fp += 1\n",
    "                else:\n",
    "                    tn += 1\n",
    "\n",
    "        # Calculate the precision and recall\n",
    "        precision = tp / (tp + fp)\n",
    "        recall = tp / (tp + fn)\n",
    "\n",
    "        return precision, recall\n",
    "\n",
    "    def test(self, attribute):\n",
    "        # Calculate the number of true positives (tp), false positives (fp),\n",
    "        # true negatives (tn), and false negatives (fn)\n",
    "        mean_value = self.testing_data[attribute].mean()\n",
    "        tp = 0\n",
    "        fp = 0\n",
    "        tn = 0\n",
    "        fn = 0\n",
    "        for index, row in self.testing_data.iterrows():\n",
    "            if row[\"warning\"] >= 1:\n",
    "                if row[attribute] >= mean_value:\n",
    "                    tp += 1\n",
    "                else:\n",
    "                    fn += 1\n",
    "            else:\n",
    "                if row[attribute] >= mean_value:\n",
    "                    fp += 1\n",
    "                else:\n",
    "                    tn += 1\n",
    "\n",
    "        # Calculate the accuracy, precision, and recall\n",
    "        accuracy = (tp + tn) / len(self.testing_data)\n",
    "        precision = tp / (tp + fp)\n",
    "        recall = tp / (tp + fn)\n",
    "\n",
    "        return accuracy, precision, recall\n",
    "\n",
    "\n",
    "one_r = OneR(training_one_r_data,testing_one_r_data).predict()"
   ]
  },
  {
   "cell_type": "markdown",
   "id": "9e07fe5c",
   "metadata": {},
   "source": [
    "We can see that by using the OneR algorithm on our data the best selected feature is O3. The accuracy is 65.8% which is definitly not something impactful. However this feature is not in our previously selected best features so lets try using the OneR algorithm using only our selected features"
   ]
  },
  {
   "cell_type": "code",
   "execution_count": 4,
   "id": "6c7b25f9",
   "metadata": {},
   "outputs": [
    {
     "name": "stdout",
     "output_type": "stream",
     "text": [
      "Best attribute: NOx\n",
      "Accuracy: 0.6492946251603124\n",
      "Precision: 0.7806122448979592\n",
      "Recall: 0.570223617104747\n"
     ]
    }
   ],
   "source": [
    "# handling outliers and nan values\n",
    "transformed_data = SimpleImputer(strategy='mean').fit_transform(measurements.loc[:,['PM2.5', 'PAHs', 'CO', 'SO2', 'NOx', 'warning']])\n",
    "# creating dataframe from transformed data\n",
    "one_r_dataframe = pd.DataFrame(transformed_data,columns = ['PM2.5', 'PAHs', 'CO', 'SO2', 'NOx','warning'])\n",
    "# splitting into testing and training data\n",
    "training_one_r_data = one_r_dataframe.sample(frac=0.75, random_state=25)\n",
    "testing_one_r_data = one_r_dataframe.drop(training_one_r_data.index)\n",
    "\n",
    "\n",
    "one_r = OneR(training_one_r_data,testing_one_r_data).predict()"
   ]
  },
  {
   "cell_type": "markdown",
   "id": "fd08c098",
   "metadata": {},
   "source": [
    "After fitting the algorithm only our previously selected features we can see that accuracy drastically lowered. The best attribute is now PM2.5 which alligns with our best found feature in the last phase, using this algorithm it has only 50.9%"
   ]
  },
  {
   "cell_type": "markdown",
   "id": "e4f065f6",
   "metadata": {},
   "source": [
    "## Training and classification"
   ]
  },
  {
   "cell_type": "markdown",
   "id": "4ceafc43",
   "metadata": {},
   "source": [
    "#### Splitting data into testing and training data"
   ]
  },
  {
   "cell_type": "code",
   "execution_count": 5,
   "id": "5f539db1",
   "metadata": {},
   "outputs": [],
   "source": [
    "training_data = measurements.sample(frac=0.75, random_state=25)\n",
    "testing_data = measurements.drop(training_data.index)\n",
    "\n",
    "training_data_target = training_data[\"warning\"]\n",
    "training_data_features = training_data.loc[:,training_data.columns != 'warning']\n",
    "\n",
    "testing_data_target = testing_data[\"warning\"]\n",
    "testing_data_features = testing_data.loc[:,training_data.columns != 'warning']"
   ]
  },
  {
   "cell_type": "markdown",
   "id": "0309ef04",
   "metadata": {},
   "source": [
    "#### Using our previously made pipeline"
   ]
  },
  {
   "cell_type": "code",
   "execution_count": 6,
   "id": "5a7ea7e4",
   "metadata": {},
   "outputs": [],
   "source": [
    "pipeline = make_pipeline(SimpleImputer(strategy = 'median'),PowerTransformer(method='yeo-johnson', standardize=True),SequentialFeatureSelector(KNeighborsClassifier(n_neighbors=3), n_features_to_select=5, direction=\"forward\"), DecisionTreeClassifier())   "
   ]
  },
  {
   "cell_type": "markdown",
   "id": "eeb72d48",
   "metadata": {},
   "source": [
    "#### Fitting testing and testing data into pipeline"
   ]
  },
  {
   "cell_type": "code",
   "execution_count": 7,
   "id": "774827f4",
   "metadata": {},
   "outputs": [
    {
     "data": {
      "text/html": [
       "<style>#sk-container-id-1 {color: black;background-color: white;}#sk-container-id-1 pre{padding: 0;}#sk-container-id-1 div.sk-toggleable {background-color: white;}#sk-container-id-1 label.sk-toggleable__label {cursor: pointer;display: block;width: 100%;margin-bottom: 0;padding: 0.3em;box-sizing: border-box;text-align: center;}#sk-container-id-1 label.sk-toggleable__label-arrow:before {content: \"▸\";float: left;margin-right: 0.25em;color: #696969;}#sk-container-id-1 label.sk-toggleable__label-arrow:hover:before {color: black;}#sk-container-id-1 div.sk-estimator:hover label.sk-toggleable__label-arrow:before {color: black;}#sk-container-id-1 div.sk-toggleable__content {max-height: 0;max-width: 0;overflow: hidden;text-align: left;background-color: #f0f8ff;}#sk-container-id-1 div.sk-toggleable__content pre {margin: 0.2em;color: black;border-radius: 0.25em;background-color: #f0f8ff;}#sk-container-id-1 input.sk-toggleable__control:checked~div.sk-toggleable__content {max-height: 200px;max-width: 100%;overflow: auto;}#sk-container-id-1 input.sk-toggleable__control:checked~label.sk-toggleable__label-arrow:before {content: \"▾\";}#sk-container-id-1 div.sk-estimator input.sk-toggleable__control:checked~label.sk-toggleable__label {background-color: #d4ebff;}#sk-container-id-1 div.sk-label input.sk-toggleable__control:checked~label.sk-toggleable__label {background-color: #d4ebff;}#sk-container-id-1 input.sk-hidden--visually {border: 0;clip: rect(1px 1px 1px 1px);clip: rect(1px, 1px, 1px, 1px);height: 1px;margin: -1px;overflow: hidden;padding: 0;position: absolute;width: 1px;}#sk-container-id-1 div.sk-estimator {font-family: monospace;background-color: #f0f8ff;border: 1px dotted black;border-radius: 0.25em;box-sizing: border-box;margin-bottom: 0.5em;}#sk-container-id-1 div.sk-estimator:hover {background-color: #d4ebff;}#sk-container-id-1 div.sk-parallel-item::after {content: \"\";width: 100%;border-bottom: 1px solid gray;flex-grow: 1;}#sk-container-id-1 div.sk-label:hover label.sk-toggleable__label {background-color: #d4ebff;}#sk-container-id-1 div.sk-serial::before {content: \"\";position: absolute;border-left: 1px solid gray;box-sizing: border-box;top: 0;bottom: 0;left: 50%;z-index: 0;}#sk-container-id-1 div.sk-serial {display: flex;flex-direction: column;align-items: center;background-color: white;padding-right: 0.2em;padding-left: 0.2em;position: relative;}#sk-container-id-1 div.sk-item {position: relative;z-index: 1;}#sk-container-id-1 div.sk-parallel {display: flex;align-items: stretch;justify-content: center;background-color: white;position: relative;}#sk-container-id-1 div.sk-item::before, #sk-container-id-1 div.sk-parallel-item::before {content: \"\";position: absolute;border-left: 1px solid gray;box-sizing: border-box;top: 0;bottom: 0;left: 50%;z-index: -1;}#sk-container-id-1 div.sk-parallel-item {display: flex;flex-direction: column;z-index: 1;position: relative;background-color: white;}#sk-container-id-1 div.sk-parallel-item:first-child::after {align-self: flex-end;width: 50%;}#sk-container-id-1 div.sk-parallel-item:last-child::after {align-self: flex-start;width: 50%;}#sk-container-id-1 div.sk-parallel-item:only-child::after {width: 0;}#sk-container-id-1 div.sk-dashed-wrapped {border: 1px dashed gray;margin: 0 0.4em 0.5em 0.4em;box-sizing: border-box;padding-bottom: 0.4em;background-color: white;}#sk-container-id-1 div.sk-label label {font-family: monospace;font-weight: bold;display: inline-block;line-height: 1.2em;}#sk-container-id-1 div.sk-label-container {text-align: center;}#sk-container-id-1 div.sk-container {/* jupyter's `normalize.less` sets `[hidden] { display: none; }` but bootstrap.min.css set `[hidden] { display: none !important; }` so we also need the `!important` here to be able to override the default hidden behavior on the sphinx rendered scikit-learn.org. See: https://github.com/scikit-learn/scikit-learn/issues/21755 */display: inline-block !important;position: relative;}#sk-container-id-1 div.sk-text-repr-fallback {display: none;}</style><div id=\"sk-container-id-1\" class=\"sk-top-container\"><div class=\"sk-text-repr-fallback\"><pre>Pipeline(steps=[(&#x27;simpleimputer&#x27;, SimpleImputer(strategy=&#x27;median&#x27;)),\n",
       "                (&#x27;powertransformer&#x27;, PowerTransformer()),\n",
       "                (&#x27;sequentialfeatureselector&#x27;,\n",
       "                 SequentialFeatureSelector(estimator=KNeighborsClassifier(n_neighbors=3),\n",
       "                                           n_features_to_select=5)),\n",
       "                (&#x27;decisiontreeclassifier&#x27;, DecisionTreeClassifier())])</pre><b>In a Jupyter environment, please rerun this cell to show the HTML representation or trust the notebook. <br />On GitHub, the HTML representation is unable to render, please try loading this page with nbviewer.org.</b></div><div class=\"sk-container\" hidden><div class=\"sk-item sk-dashed-wrapped\"><div class=\"sk-label-container\"><div class=\"sk-label sk-toggleable\"><input class=\"sk-toggleable__control sk-hidden--visually\" id=\"sk-estimator-id-1\" type=\"checkbox\" ><label for=\"sk-estimator-id-1\" class=\"sk-toggleable__label sk-toggleable__label-arrow\">Pipeline</label><div class=\"sk-toggleable__content\"><pre>Pipeline(steps=[(&#x27;simpleimputer&#x27;, SimpleImputer(strategy=&#x27;median&#x27;)),\n",
       "                (&#x27;powertransformer&#x27;, PowerTransformer()),\n",
       "                (&#x27;sequentialfeatureselector&#x27;,\n",
       "                 SequentialFeatureSelector(estimator=KNeighborsClassifier(n_neighbors=3),\n",
       "                                           n_features_to_select=5)),\n",
       "                (&#x27;decisiontreeclassifier&#x27;, DecisionTreeClassifier())])</pre></div></div></div><div class=\"sk-serial\"><div class=\"sk-item\"><div class=\"sk-estimator sk-toggleable\"><input class=\"sk-toggleable__control sk-hidden--visually\" id=\"sk-estimator-id-2\" type=\"checkbox\" ><label for=\"sk-estimator-id-2\" class=\"sk-toggleable__label sk-toggleable__label-arrow\">SimpleImputer</label><div class=\"sk-toggleable__content\"><pre>SimpleImputer(strategy=&#x27;median&#x27;)</pre></div></div></div><div class=\"sk-item\"><div class=\"sk-estimator sk-toggleable\"><input class=\"sk-toggleable__control sk-hidden--visually\" id=\"sk-estimator-id-3\" type=\"checkbox\" ><label for=\"sk-estimator-id-3\" class=\"sk-toggleable__label sk-toggleable__label-arrow\">PowerTransformer</label><div class=\"sk-toggleable__content\"><pre>PowerTransformer()</pre></div></div></div><div class=\"sk-item sk-dashed-wrapped\"><div class=\"sk-label-container\"><div class=\"sk-label sk-toggleable\"><input class=\"sk-toggleable__control sk-hidden--visually\" id=\"sk-estimator-id-4\" type=\"checkbox\" ><label for=\"sk-estimator-id-4\" class=\"sk-toggleable__label sk-toggleable__label-arrow\">sequentialfeatureselector: SequentialFeatureSelector</label><div class=\"sk-toggleable__content\"><pre>SequentialFeatureSelector(estimator=KNeighborsClassifier(n_neighbors=3),\n",
       "                          n_features_to_select=5)</pre></div></div></div><div class=\"sk-parallel\"><div class=\"sk-parallel-item\"><div class=\"sk-item\"><div class=\"sk-label-container\"><div class=\"sk-label sk-toggleable\"><input class=\"sk-toggleable__control sk-hidden--visually\" id=\"sk-estimator-id-5\" type=\"checkbox\" ><label for=\"sk-estimator-id-5\" class=\"sk-toggleable__label sk-toggleable__label-arrow\">estimator: KNeighborsClassifier</label><div class=\"sk-toggleable__content\"><pre>KNeighborsClassifier(n_neighbors=3)</pre></div></div></div><div class=\"sk-serial\"><div class=\"sk-item\"><div class=\"sk-estimator sk-toggleable\"><input class=\"sk-toggleable__control sk-hidden--visually\" id=\"sk-estimator-id-6\" type=\"checkbox\" ><label for=\"sk-estimator-id-6\" class=\"sk-toggleable__label sk-toggleable__label-arrow\">KNeighborsClassifier</label><div class=\"sk-toggleable__content\"><pre>KNeighborsClassifier(n_neighbors=3)</pre></div></div></div></div></div></div></div></div><div class=\"sk-item\"><div class=\"sk-estimator sk-toggleable\"><input class=\"sk-toggleable__control sk-hidden--visually\" id=\"sk-estimator-id-7\" type=\"checkbox\" ><label for=\"sk-estimator-id-7\" class=\"sk-toggleable__label sk-toggleable__label-arrow\">DecisionTreeClassifier</label><div class=\"sk-toggleable__content\"><pre>DecisionTreeClassifier()</pre></div></div></div></div></div></div></div>"
      ],
      "text/plain": [
       "Pipeline(steps=[('simpleimputer', SimpleImputer(strategy='median')),\n",
       "                ('powertransformer', PowerTransformer()),\n",
       "                ('sequentialfeatureselector',\n",
       "                 SequentialFeatureSelector(estimator=KNeighborsClassifier(n_neighbors=3),\n",
       "                                           n_features_to_select=5)),\n",
       "                ('decisiontreeclassifier', DecisionTreeClassifier())])"
      ]
     },
     "execution_count": 7,
     "metadata": {},
     "output_type": "execute_result"
    }
   ],
   "source": [
    "pipeline.fit(training_data_features,training_data_target)"
   ]
  },
  {
   "cell_type": "markdown",
   "id": "c87768ec",
   "metadata": {},
   "source": [
    "#### Tree visualization"
   ]
  },
  {
   "cell_type": "code",
   "execution_count": 8,
   "id": "baf5e42c",
   "metadata": {},
   "outputs": [
    {
     "data": {
      "image/png": "[encoded data removed]",
      "text/plain": [
       "<Figure size 640x480 with 1 Axes>"
      ]
     },
     "metadata": {},
     "output_type": "display_data"
    }
   ],
   "source": [
    "for name, step in pipeline.steps:\n",
    "    # finding our tree object in pipeline\n",
    "    if isinstance(step, DecisionTreeClassifier):\n",
    "        decistion_tree = step\n",
    "        break\n",
    "\n",
    "tree = plot_tree(decistion_tree, feature_names=['PM2.5', 'PAHs', 'CO', 'SO2', 'NOx'], max_depth=2, fontsize=9)"
   ]
  },
  {
   "cell_type": "markdown",
   "id": "03fc5357",
   "metadata": {},
   "source": [
    "#### Model evaluation"
   ]
  },
  {
   "cell_type": "code",
   "execution_count": 9,
   "id": "d80c4e55",
   "metadata": {},
   "outputs": [
    {
     "name": "stdout",
     "output_type": "stream",
     "text": [
      "Accuracy: 0.8933193424274222\n",
      "Precision: 0.8905615612494153\n",
      "Recall: 0.8849863522073154\n"
     ]
    }
   ],
   "source": [
    "target_prediction = pipeline.predict(testing_data_features)\n",
    "print('Accuracy:', accuracy_score(testing_data_target, target_prediction))\n",
    "print('Precision:', precision_score(testing_data_target, target_prediction, average='macro'))\n",
    "print('Recall:', recall_score(testing_data_target, target_prediction, average='macro'))"
   ]
  },
  {
   "cell_type": "markdown",
   "id": "7edb1bcd",
   "metadata": {},
   "source": [
    "As we can see this model has an accuracy of 89.4% compare to our previously implemented OneR algortihm that had 65.8% using all data and 50.9% using only features that should best affect the target."
   ]
  },
  {
   "cell_type": "markdown",
   "id": "70f973f0",
   "metadata": {},
   "source": [
    "## Optimization using hyperparameter tunning"
   ]
  },
  {
   "cell_type": "markdown",
   "id": "c9c57c9d",
   "metadata": {},
   "source": [
    "We will be using the GridSearchCV algorithm to find the omptimal hyperparameters of the DecisionTreeClassifier in order to minimize overfitting."
   ]
  },
  {
   "cell_type": "code",
   "execution_count": 10,
   "id": "b4d9f3de",
   "metadata": {},
   "outputs": [
    {
     "name": "stdout",
     "output_type": "stream",
     "text": [
      "Best hyperparameters: {'max_depth': 10, 'min_samples_leaf': 10, 'min_samples_split': 8}\n"
     ]
    }
   ],
   "source": [
    "# Define the hyperparameter grid to search over \n",
    "param_grid = {\n",
    "    'max_depth': [5, 10, 15, 20, 25, 30, 35, 40],\n",
    "    'min_samples_split': [2, 3, 4, 5, 6, 7, 8, 9, 10],\n",
    "    'min_samples_leaf': [1, 2, 3, 4, 5, 6, 7, 8, 9, 10]\n",
    "}\n",
    "# Use GridSearchCV to search for the optimal hyperparameters of the DecisionTreeClassifier\n",
    "grid_search = GridSearchCV(decistion_tree, param_grid, cv=5)\n",
    "grid_search.fit(training_data_features, training_data_target)\n",
    "\n",
    "# Print the best hyperparameters found by GridSearchCV\n",
    "print('Best hyperparameters:', grid_search.best_params_)"
   ]
  },
  {
   "cell_type": "markdown",
   "id": "e4150df7",
   "metadata": {},
   "source": [
    "In our case we can see that the omptimal parameters are max_depth: 10, min_samples_leaf: 10 and min_samples_split: 8.\n",
    "\n",
    "The max_depth parameter determines the maximum depth of the decision tree. The deeper the tree, the more splits it has and the more complex the model becomes. The min_samples_split parameter determines the minimum number of samples required to split an internal node in the decision tree. The min_samples_leaf parameter determines the minimum number of samples required to be at a leaf node."
   ]
  },
  {
   "cell_type": "markdown",
   "id": "dfbade95",
   "metadata": {},
   "source": [
    "#### Creating new model with optimal parameters"
   ]
  },
  {
   "cell_type": "code",
   "execution_count": 17,
   "id": "40b52371",
   "metadata": {},
   "outputs": [],
   "source": [
    "model = make_pipeline(SimpleImputer(strategy = 'median'),PowerTransformer(method='yeo-johnson', standardize=True),SequentialFeatureSelector(KNeighborsClassifier(n_neighbors=3), n_features_to_select=5, direction=\"forward\"), DecisionTreeClassifier(max_depth=10, min_samples_leaf=10, min_samples_split=8) )   "
   ]
  },
  {
   "cell_type": "markdown",
   "id": "2d0ade8b",
   "metadata": {},
   "source": [
    "#### Cross validation"
   ]
  },
  {
   "cell_type": "code",
   "execution_count": 20,
   "id": "ff90bf34",
   "metadata": {},
   "outputs": [
    {
     "name": "stdout",
     "output_type": "stream",
     "text": [
      "Mean cross-validation score: 0.91\n",
      "Standard deviation of cross-validation score: 0.01\n"
     ]
    }
   ],
   "source": [
    "# Use k-fold cross-validation with 5 folds\n",
    "k = 5\n",
    "scores = cross_val_score(model, training_data_features, training_data_target, cv=k)\n",
    "\n",
    "# Print the mean and standard deviation of the cross-validation scores\n",
    "print(\"Mean cross-validation score: {:.2f}\".format(scores.mean()))\n",
    "print(\"Standard deviation of cross-validation score: {:.2f}\".format(scores.std()))"
   ]
  },
  {
   "cell_type": "markdown",
   "id": "2fc9cb88",
   "metadata": {},
   "source": [
    "From cross validation we can see that our scores could be considered quite performing"
   ]
  },
  {
   "cell_type": "markdown",
   "id": "ca8a103f",
   "metadata": {},
   "source": [
    "#### Fitting the new model data"
   ]
  },
  {
   "cell_type": "code",
   "execution_count": 18,
   "id": "19735dd6",
   "metadata": {},
   "outputs": [
    {
     "data": {
      "text/html": [
       "<style>#sk-container-id-3 {color: black;background-color: white;}#sk-container-id-3 pre{padding: 0;}#sk-container-id-3 div.sk-toggleable {background-color: white;}#sk-container-id-3 label.sk-toggleable__label {cursor: pointer;display: block;width: 100%;margin-bottom: 0;padding: 0.3em;box-sizing: border-box;text-align: center;}#sk-container-id-3 label.sk-toggleable__label-arrow:before {content: \"▸\";float: left;margin-right: 0.25em;color: #696969;}#sk-container-id-3 label.sk-toggleable__label-arrow:hover:before {color: black;}#sk-container-id-3 div.sk-estimator:hover label.sk-toggleable__label-arrow:before {color: black;}#sk-container-id-3 div.sk-toggleable__content {max-height: 0;max-width: 0;overflow: hidden;text-align: left;background-color: #f0f8ff;}#sk-container-id-3 div.sk-toggleable__content pre {margin: 0.2em;color: black;border-radius: 0.25em;background-color: #f0f8ff;}#sk-container-id-3 input.sk-toggleable__control:checked~div.sk-toggleable__content {max-height: 200px;max-width: 100%;overflow: auto;}#sk-container-id-3 input.sk-toggleable__control:checked~label.sk-toggleable__label-arrow:before {content: \"▾\";}#sk-container-id-3 div.sk-estimator input.sk-toggleable__control:checked~label.sk-toggleable__label {background-color: #d4ebff;}#sk-container-id-3 div.sk-label input.sk-toggleable__control:checked~label.sk-toggleable__label {background-color: #d4ebff;}#sk-container-id-3 input.sk-hidden--visually {border: 0;clip: rect(1px 1px 1px 1px);clip: rect(1px, 1px, 1px, 1px);height: 1px;margin: -1px;overflow: hidden;padding: 0;position: absolute;width: 1px;}#sk-container-id-3 div.sk-estimator {font-family: monospace;background-color: #f0f8ff;border: 1px dotted black;border-radius: 0.25em;box-sizing: border-box;margin-bottom: 0.5em;}#sk-container-id-3 div.sk-estimator:hover {background-color: #d4ebff;}#sk-container-id-3 div.sk-parallel-item::after {content: \"\";width: 100%;border-bottom: 1px solid gray;flex-grow: 1;}#sk-container-id-3 div.sk-label:hover label.sk-toggleable__label {background-color: #d4ebff;}#sk-container-id-3 div.sk-serial::before {content: \"\";position: absolute;border-left: 1px solid gray;box-sizing: border-box;top: 0;bottom: 0;left: 50%;z-index: 0;}#sk-container-id-3 div.sk-serial {display: flex;flex-direction: column;align-items: center;background-color: white;padding-right: 0.2em;padding-left: 0.2em;position: relative;}#sk-container-id-3 div.sk-item {position: relative;z-index: 1;}#sk-container-id-3 div.sk-parallel {display: flex;align-items: stretch;justify-content: center;background-color: white;position: relative;}#sk-container-id-3 div.sk-item::before, #sk-container-id-3 div.sk-parallel-item::before {content: \"\";position: absolute;border-left: 1px solid gray;box-sizing: border-box;top: 0;bottom: 0;left: 50%;z-index: -1;}#sk-container-id-3 div.sk-parallel-item {display: flex;flex-direction: column;z-index: 1;position: relative;background-color: white;}#sk-container-id-3 div.sk-parallel-item:first-child::after {align-self: flex-end;width: 50%;}#sk-container-id-3 div.sk-parallel-item:last-child::after {align-self: flex-start;width: 50%;}#sk-container-id-3 div.sk-parallel-item:only-child::after {width: 0;}#sk-container-id-3 div.sk-dashed-wrapped {border: 1px dashed gray;margin: 0 0.4em 0.5em 0.4em;box-sizing: border-box;padding-bottom: 0.4em;background-color: white;}#sk-container-id-3 div.sk-label label {font-family: monospace;font-weight: bold;display: inline-block;line-height: 1.2em;}#sk-container-id-3 div.sk-label-container {text-align: center;}#sk-container-id-3 div.sk-container {/* jupyter's `normalize.less` sets `[hidden] { display: none; }` but bootstrap.min.css set `[hidden] { display: none !important; }` so we also need the `!important` here to be able to override the default hidden behavior on the sphinx rendered scikit-learn.org. See: https://github.com/scikit-learn/scikit-learn/issues/21755 */display: inline-block !important;position: relative;}#sk-container-id-3 div.sk-text-repr-fallback {display: none;}</style><div id=\"sk-container-id-3\" class=\"sk-top-container\"><div class=\"sk-text-repr-fallback\"><pre>Pipeline(steps=[(&#x27;simpleimputer&#x27;, SimpleImputer(strategy=&#x27;median&#x27;)),\n",
       "                (&#x27;powertransformer&#x27;, PowerTransformer()),\n",
       "                (&#x27;sequentialfeatureselector&#x27;,\n",
       "                 SequentialFeatureSelector(estimator=KNeighborsClassifier(n_neighbors=3),\n",
       "                                           n_features_to_select=5)),\n",
       "                (&#x27;decisiontreeclassifier&#x27;,\n",
       "                 DecisionTreeClassifier(max_depth=10, min_samples_leaf=10,\n",
       "                                        min_samples_split=8))])</pre><b>In a Jupyter environment, please rerun this cell to show the HTML representation or trust the notebook. <br />On GitHub, the HTML representation is unable to render, please try loading this page with nbviewer.org.</b></div><div class=\"sk-container\" hidden><div class=\"sk-item sk-dashed-wrapped\"><div class=\"sk-label-container\"><div class=\"sk-label sk-toggleable\"><input class=\"sk-toggleable__control sk-hidden--visually\" id=\"sk-estimator-id-15\" type=\"checkbox\" ><label for=\"sk-estimator-id-15\" class=\"sk-toggleable__label sk-toggleable__label-arrow\">Pipeline</label><div class=\"sk-toggleable__content\"><pre>Pipeline(steps=[(&#x27;simpleimputer&#x27;, SimpleImputer(strategy=&#x27;median&#x27;)),\n",
       "                (&#x27;powertransformer&#x27;, PowerTransformer()),\n",
       "                (&#x27;sequentialfeatureselector&#x27;,\n",
       "                 SequentialFeatureSelector(estimator=KNeighborsClassifier(n_neighbors=3),\n",
       "                                           n_features_to_select=5)),\n",
       "                (&#x27;decisiontreeclassifier&#x27;,\n",
       "                 DecisionTreeClassifier(max_depth=10, min_samples_leaf=10,\n",
       "                                        min_samples_split=8))])</pre></div></div></div><div class=\"sk-serial\"><div class=\"sk-item\"><div class=\"sk-estimator sk-toggleable\"><input class=\"sk-toggleable__control sk-hidden--visually\" id=\"sk-estimator-id-16\" type=\"checkbox\" ><label for=\"sk-estimator-id-16\" class=\"sk-toggleable__label sk-toggleable__label-arrow\">SimpleImputer</label><div class=\"sk-toggleable__content\"><pre>SimpleImputer(strategy=&#x27;median&#x27;)</pre></div></div></div><div class=\"sk-item\"><div class=\"sk-estimator sk-toggleable\"><input class=\"sk-toggleable__control sk-hidden--visually\" id=\"sk-estimator-id-17\" type=\"checkbox\" ><label for=\"sk-estimator-id-17\" class=\"sk-toggleable__label sk-toggleable__label-arrow\">PowerTransformer</label><div class=\"sk-toggleable__content\"><pre>PowerTransformer()</pre></div></div></div><div class=\"sk-item sk-dashed-wrapped\"><div class=\"sk-label-container\"><div class=\"sk-label sk-toggleable\"><input class=\"sk-toggleable__control sk-hidden--visually\" id=\"sk-estimator-id-18\" type=\"checkbox\" ><label for=\"sk-estimator-id-18\" class=\"sk-toggleable__label sk-toggleable__label-arrow\">sequentialfeatureselector: SequentialFeatureSelector</label><div class=\"sk-toggleable__content\"><pre>SequentialFeatureSelector(estimator=KNeighborsClassifier(n_neighbors=3),\n",
       "                          n_features_to_select=5)</pre></div></div></div><div class=\"sk-parallel\"><div class=\"sk-parallel-item\"><div class=\"sk-item\"><div class=\"sk-label-container\"><div class=\"sk-label sk-toggleable\"><input class=\"sk-toggleable__control sk-hidden--visually\" id=\"sk-estimator-id-19\" type=\"checkbox\" ><label for=\"sk-estimator-id-19\" class=\"sk-toggleable__label sk-toggleable__label-arrow\">estimator: KNeighborsClassifier</label><div class=\"sk-toggleable__content\"><pre>KNeighborsClassifier(n_neighbors=3)</pre></div></div></div><div class=\"sk-serial\"><div class=\"sk-item\"><div class=\"sk-estimator sk-toggleable\"><input class=\"sk-toggleable__control sk-hidden--visually\" id=\"sk-estimator-id-20\" type=\"checkbox\" ><label for=\"sk-estimator-id-20\" class=\"sk-toggleable__label sk-toggleable__label-arrow\">KNeighborsClassifier</label><div class=\"sk-toggleable__content\"><pre>KNeighborsClassifier(n_neighbors=3)</pre></div></div></div></div></div></div></div></div><div class=\"sk-item\"><div class=\"sk-estimator sk-toggleable\"><input class=\"sk-toggleable__control sk-hidden--visually\" id=\"sk-estimator-id-21\" type=\"checkbox\" ><label for=\"sk-estimator-id-21\" class=\"sk-toggleable__label sk-toggleable__label-arrow\">DecisionTreeClassifier</label><div class=\"sk-toggleable__content\"><pre>DecisionTreeClassifier(max_depth=10, min_samples_leaf=10, min_samples_split=8)</pre></div></div></div></div></div></div></div>"
      ],
      "text/plain": [
       "Pipeline(steps=[('simpleimputer', SimpleImputer(strategy='median')),\n",
       "                ('powertransformer', PowerTransformer()),\n",
       "                ('sequentialfeatureselector',\n",
       "                 SequentialFeatureSelector(estimator=KNeighborsClassifier(n_neighbors=3),\n",
       "                                           n_features_to_select=5)),\n",
       "                ('decisiontreeclassifier',\n",
       "                 DecisionTreeClassifier(max_depth=10, min_samples_leaf=10,\n",
       "                                        min_samples_split=8))])"
      ]
     },
     "execution_count": 18,
     "metadata": {},
     "output_type": "execute_result"
    }
   ],
   "source": [
    "model.fit(training_data_features, training_data_target)"
   ]
  },
  {
   "cell_type": "markdown",
   "id": "306ea90f",
   "metadata": {},
   "source": [
    "#### Calculating accuracy, precision and recall of the new model"
   ]
  },
  {
   "cell_type": "code",
   "execution_count": 22,
   "id": "0241efb6",
   "metadata": {},
   "outputs": [
    {
     "name": "stdout",
     "output_type": "stream",
     "text": [
      "accuracy: 0.912906610703043\n",
      "precision: 0.9076566526222701\n",
      "recall: 0.9109158775469219\n"
     ]
    }
   ],
   "source": [
    "model_pred = model.predict(testing_data_features)\n",
    "print('accuracy:', accuracy_score(testing_data_target, model_pred))\n",
    "print('precision:', precision_score(testing_data_target, model_pred, average='macro'))\n",
    "print('recall:', recall_score(testing_data_target, model_pred, average='macro'))"
   ]
  },
  {
   "cell_type": "markdown",
   "id": "47f6b70b",
   "metadata": {},
   "source": [
    "Final accuracy 91.2% which is greater than 89.4% we had previously."
   ]
  }
 ],
 "metadata": {
  "kernelspec": {
   "display_name": "Python 3 (ipykernel)",
   "language": "python",
   "name": "python3"
  },
  "language_info": {
   "codemirror_mode": {
    "name": "ipython",
    "version": 3
   },
   "file_extension": ".py",
   "mimetype": "text/x-python",
   "name": "python",
   "nbconvert_exporter": "python",
   "pygments_lexer": "ipython3",
   "version": "3.10.7"
  }
 },
 "nbformat": 4,
 "nbformat_minor": 5
}
